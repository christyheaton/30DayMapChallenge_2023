{
 "cells": [
  {
   "cell_type": "code",
   "execution_count": 3,
   "id": "27e0ed93-d9e8-4c8b-8f5e-33742885586a",
   "metadata": {},
   "outputs": [],
   "source": [
    "import geopandas as gpd"
   ]
  },
  {
   "cell_type": "code",
   "execution_count": 5,
   "id": "9dfe177f-4669-47e6-99e8-2b2d702eea7f",
   "metadata": {},
   "outputs": [],
   "source": [
    "cities = gpd.read_file(\"../data/ne_10m_populated_places_simple/ne_10m_populated_places_simple.shp\")"
   ]
  },
  {
   "cell_type": "code",
   "execution_count": 14,
   "id": "509b223b-857a-471c-81b5-b60229ea3ae0",
   "metadata": {},
   "outputs": [],
   "source": [
    "cat_cities = cities[cities[\"name\"].str.contains('cat', case=False)] "
   ]
  },
  {
   "cell_type": "code",
   "execution_count": 17,
   "id": "2001dc83-3a1c-4a5a-b77a-8e9c9855bb56",
   "metadata": {},
   "outputs": [
    {
     "data": {
      "text/plain": [
       "Index(['scalerank', 'natscale', 'labelrank', 'featurecla', 'name', 'namepar',\n",
       "       'namealt', 'nameascii', 'adm0cap', 'capalt', 'capin', 'worldcity',\n",
       "       'megacity', 'sov0name', 'sov_a3', 'adm0name', 'adm0_a3', 'adm1name',\n",
       "       'iso_a2', 'note', 'latitude', 'longitude', 'pop_max', 'pop_min',\n",
       "       'pop_other', 'rank_max', 'rank_min', 'meganame', 'ls_name', 'min_zoom',\n",
       "       'ne_id', 'geometry'],\n",
       "      dtype='object')"
      ]
     },
     "execution_count": 17,
     "metadata": {},
     "output_type": "execute_result"
    }
   ],
   "source": [
    "cat_cities.columns"
   ]
  },
  {
   "cell_type": "code",
   "execution_count": 27,
   "id": "e1ae2df7-afe8-400a-afe4-5082f9503afa",
   "metadata": {},
   "outputs": [],
   "source": [
    "cat_cities_df = cat_cities[[\"name\", \"adm0name\", \"pop_max\", \"latitude\", \"longitude\"]]"
   ]
  },
  {
   "cell_type": "code",
   "execution_count": 29,
   "id": "912bde93-10a6-4e7c-a430-429709fb3ce9",
   "metadata": {},
   "outputs": [],
   "source": [
    "cat_cities_gdf = gpd.GeoDataFrame(cat_cities_df, geometry=gpd.points_from_xy(cat_cities_df.longitude, cat_cities_df.latitude), crs=\"EPSG:4326\")"
   ]
  },
  {
   "cell_type": "code",
   "execution_count": 30,
   "id": "206b0d80-c140-4116-9dea-13807c3acf66",
   "metadata": {},
   "outputs": [
    {
     "data": {
      "text/html": [
       "<div style=\"width:100%;\"><div style=\"position:relative;width:100%;height:0;padding-bottom:60%;\"><span style=\"color:#565656\">Make this Notebook Trusted to load map: File -> Trust Notebook</span><iframe srcdoc=\"&lt;!DOCTYPE html&gt;\n",
       "&lt;html&gt;\n",
       "&lt;head&gt;\n",
       "    \n",
       "    &lt;meta http-equiv=&quot;content-type&quot; content=&quot;text/html; charset=UTF-8&quot; /&gt;\n",
       "    \n",
       "        &lt;script&gt;\n",
       "            L_NO_TOUCH = false;\n",
       "            L_DISABLE_3D = false;\n",
       "        &lt;/script&gt;\n",
       "    \n",
       "    &lt;style&gt;html, body {width: 100%;height: 100%;margin: 0;padding: 0;}&lt;/style&gt;\n",
       "    &lt;style&gt;#map {position:absolute;top:0;bottom:0;right:0;left:0;}&lt;/style&gt;\n",
       "    &lt;script src=&quot;https://cdn.jsdelivr.net/npm/leaflet@1.9.3/dist/leaflet.js&quot;&gt;&lt;/script&gt;\n",
       "    &lt;script src=&quot;https://code.jquery.com/jquery-1.12.4.min.js&quot;&gt;&lt;/script&gt;\n",
       "    &lt;script src=&quot;https://cdn.jsdelivr.net/npm/bootstrap@5.2.2/dist/js/bootstrap.bundle.min.js&quot;&gt;&lt;/script&gt;\n",
       "    &lt;script src=&quot;https://cdnjs.cloudflare.com/ajax/libs/Leaflet.awesome-markers/2.0.2/leaflet.awesome-markers.js&quot;&gt;&lt;/script&gt;\n",
       "    &lt;link rel=&quot;stylesheet&quot; href=&quot;https://cdn.jsdelivr.net/npm/leaflet@1.9.3/dist/leaflet.css&quot;/&gt;\n",
       "    &lt;link rel=&quot;stylesheet&quot; href=&quot;https://cdn.jsdelivr.net/npm/bootstrap@5.2.2/dist/css/bootstrap.min.css&quot;/&gt;\n",
       "    &lt;link rel=&quot;stylesheet&quot; href=&quot;https://netdna.bootstrapcdn.com/bootstrap/3.0.0/css/bootstrap.min.css&quot;/&gt;\n",
       "    &lt;link rel=&quot;stylesheet&quot; href=&quot;https://cdn.jsdelivr.net/npm/@fortawesome/fontawesome-free@6.2.0/css/all.min.css&quot;/&gt;\n",
       "    &lt;link rel=&quot;stylesheet&quot; href=&quot;https://cdnjs.cloudflare.com/ajax/libs/Leaflet.awesome-markers/2.0.2/leaflet.awesome-markers.css&quot;/&gt;\n",
       "    &lt;link rel=&quot;stylesheet&quot; href=&quot;https://cdn.jsdelivr.net/gh/python-visualization/folium/folium/templates/leaflet.awesome.rotate.min.css&quot;/&gt;\n",
       "    \n",
       "            &lt;meta name=&quot;viewport&quot; content=&quot;width=device-width,\n",
       "                initial-scale=1.0, maximum-scale=1.0, user-scalable=no&quot; /&gt;\n",
       "            &lt;style&gt;\n",
       "                #map_daf7a8612ee267f9c856e23a9447aecf {\n",
       "                    position: relative;\n",
       "                    width: 100.0%;\n",
       "                    height: 100.0%;\n",
       "                    left: 0.0%;\n",
       "                    top: 0.0%;\n",
       "                }\n",
       "                .leaflet-container { font-size: 1rem; }\n",
       "            &lt;/style&gt;\n",
       "        \n",
       "    \n",
       "                    &lt;style&gt;\n",
       "                        .foliumtooltip {\n",
       "                            \n",
       "                        }\n",
       "                       .foliumtooltip table{\n",
       "                            margin: auto;\n",
       "                        }\n",
       "                        .foliumtooltip tr{\n",
       "                            text-align: left;\n",
       "                        }\n",
       "                        .foliumtooltip th{\n",
       "                            padding: 2px; padding-right: 8px;\n",
       "                        }\n",
       "                    &lt;/style&gt;\n",
       "            \n",
       "&lt;/head&gt;\n",
       "&lt;body&gt;\n",
       "    \n",
       "    \n",
       "            &lt;div class=&quot;folium-map&quot; id=&quot;map_daf7a8612ee267f9c856e23a9447aecf&quot; &gt;&lt;/div&gt;\n",
       "        \n",
       "&lt;/body&gt;\n",
       "&lt;script&gt;\n",
       "    \n",
       "    \n",
       "            var map_daf7a8612ee267f9c856e23a9447aecf = L.map(\n",
       "                &quot;map_daf7a8612ee267f9c856e23a9447aecf&quot;,\n",
       "                {\n",
       "                    center: [11.623514, -32.7474565],\n",
       "                    crs: L.CRS.EPSG3857,\n",
       "                    zoom: 10,\n",
       "                    zoomControl: true,\n",
       "                    preferCanvas: false,\n",
       "                }\n",
       "            );\n",
       "            L.control.scale().addTo(map_daf7a8612ee267f9c856e23a9447aecf);\n",
       "\n",
       "            \n",
       "\n",
       "        \n",
       "    \n",
       "            var tile_layer_a436015a58897b2c3e96e3e914857003 = L.tileLayer(\n",
       "                &quot;https://{s}.tile.openstreetmap.org/{z}/{x}/{y}.png&quot;,\n",
       "                {&quot;attribution&quot;: &quot;Data by \\u0026copy; \\u003ca target=\\&quot;_blank\\&quot; href=\\&quot;http://openstreetmap.org\\&quot;\\u003eOpenStreetMap\\u003c/a\\u003e, under \\u003ca target=\\&quot;_blank\\&quot; href=\\&quot;http://www.openstreetmap.org/copyright\\&quot;\\u003eODbL\\u003c/a\\u003e.&quot;, &quot;detectRetina&quot;: false, &quot;maxNativeZoom&quot;: 18, &quot;maxZoom&quot;: 18, &quot;minZoom&quot;: 0, &quot;noWrap&quot;: false, &quot;opacity&quot;: 1, &quot;subdomains&quot;: &quot;abc&quot;, &quot;tms&quot;: false}\n",
       "            ).addTo(map_daf7a8612ee267f9c856e23a9447aecf);\n",
       "        \n",
       "    \n",
       "            map_daf7a8612ee267f9c856e23a9447aecf.fitBounds(\n",
       "                [[-28.470008, -124.088225], [51.717036, 58.593312]],\n",
       "                {}\n",
       "            );\n",
       "        \n",
       "    \n",
       "        function geo_json_e963b9afc9185eadee69912f9b1ab4cc_styler(feature) {\n",
       "            switch(feature.id) {\n",
       "                default:\n",
       "                    return {&quot;fillOpacity&quot;: 0.5, &quot;weight&quot;: 2};\n",
       "            }\n",
       "        }\n",
       "        function geo_json_e963b9afc9185eadee69912f9b1ab4cc_highlighter(feature) {\n",
       "            switch(feature.id) {\n",
       "                default:\n",
       "                    return {&quot;fillOpacity&quot;: 0.75};\n",
       "            }\n",
       "        }\n",
       "        function geo_json_e963b9afc9185eadee69912f9b1ab4cc_pointToLayer(feature, latlng) {\n",
       "            var opts = {&quot;bubblingMouseEvents&quot;: true, &quot;color&quot;: &quot;#3388ff&quot;, &quot;dashArray&quot;: null, &quot;dashOffset&quot;: null, &quot;fill&quot;: true, &quot;fillColor&quot;: &quot;#3388ff&quot;, &quot;fillOpacity&quot;: 0.2, &quot;fillRule&quot;: &quot;evenodd&quot;, &quot;lineCap&quot;: &quot;round&quot;, &quot;lineJoin&quot;: &quot;round&quot;, &quot;opacity&quot;: 1.0, &quot;radius&quot;: 2, &quot;stroke&quot;: true, &quot;weight&quot;: 3};\n",
       "            \n",
       "            let style = geo_json_e963b9afc9185eadee69912f9b1ab4cc_styler(feature)\n",
       "            Object.assign(opts, style)\n",
       "            \n",
       "            return new L.CircleMarker(latlng, opts)\n",
       "        }\n",
       "\n",
       "        function geo_json_e963b9afc9185eadee69912f9b1ab4cc_onEachFeature(feature, layer) {\n",
       "            layer.on({\n",
       "                mouseout: function(e) {\n",
       "                    if(typeof e.target.setStyle === &quot;function&quot;){\n",
       "                        geo_json_e963b9afc9185eadee69912f9b1ab4cc.resetStyle(e.target);\n",
       "                    }\n",
       "                },\n",
       "                mouseover: function(e) {\n",
       "                    if(typeof e.target.setStyle === &quot;function&quot;){\n",
       "                        const highlightStyle = geo_json_e963b9afc9185eadee69912f9b1ab4cc_highlighter(e.target.feature)\n",
       "                        e.target.setStyle(highlightStyle);\n",
       "                    }\n",
       "                },\n",
       "            });\n",
       "        };\n",
       "        var geo_json_e963b9afc9185eadee69912f9b1ab4cc = L.geoJson(null, {\n",
       "                onEachFeature: geo_json_e963b9afc9185eadee69912f9b1ab4cc_onEachFeature,\n",
       "            \n",
       "                style: geo_json_e963b9afc9185eadee69912f9b1ab4cc_styler,\n",
       "                pointToLayer: geo_json_e963b9afc9185eadee69912f9b1ab4cc_pointToLayer\n",
       "        });\n",
       "\n",
       "        function geo_json_e963b9afc9185eadee69912f9b1ab4cc_add (data) {\n",
       "            geo_json_e963b9afc9185eadee69912f9b1ab4cc\n",
       "                .addData(data)\n",
       "                .addTo(map_daf7a8612ee267f9c856e23a9447aecf);\n",
       "        }\n",
       "            geo_json_e963b9afc9185eadee69912f9b1ab4cc_add({&quot;bbox&quot;: [-124.088225, -28.470008, 58.593312, 51.717036], &quot;features&quot;: [{&quot;bbox&quot;: [-15.166701, 11.2167, -15.166701, 11.2167], &quot;geometry&quot;: {&quot;coordinates&quot;: [-15.166701, 11.2167], &quot;type&quot;: &quot;Point&quot;}, &quot;id&quot;: &quot;245&quot;, &quot;properties&quot;: {&quot;adm0name&quot;: &quot;Guinea Bissau&quot;, &quot;latitude&quot;: 11.2167, &quot;longitude&quot;: -15.166701, &quot;name&quot;: &quot;Cati\\u00f3&quot;, &quot;pop_max&quot;: 9898}, &quot;type&quot;: &quot;Feature&quot;}, {&quot;bbox&quot;: [-88.867998, 13.508001, -88.867998, 13.508001], &quot;geometry&quot;: {&quot;coordinates&quot;: [-88.867998, 13.508001], &quot;type&quot;: &quot;Point&quot;}, &quot;id&quot;: &quot;273&quot;, &quot;properties&quot;: {&quot;adm0name&quot;: &quot;El Salvador&quot;, &quot;latitude&quot;: 13.508001, &quot;longitude&quot;: -88.867998, &quot;name&quot;: &quot;Zacatecoluca&quot;, &quot;pop_max&quot;: 39613}, &quot;type&quot;: &quot;Feature&quot;}, {&quot;bbox&quot;: [-98.049995, 18.19996, -98.049995, 18.19996], &quot;geometry&quot;: {&quot;coordinates&quot;: [-98.049995, 18.19996], &quot;type&quot;: &quot;Point&quot;}, &quot;id&quot;: &quot;1143&quot;, &quot;properties&quot;: {&quot;adm0name&quot;: &quot;Mexico&quot;, &quot;latitude&quot;: 18.19996, &quot;longitude&quot;: -98.049995, &quot;name&quot;: &quot;Acatlan&quot;, &quot;pop_max&quot;: 18879}, &quot;type&quot;: &quot;Feature&quot;}, {&quot;bbox&quot;: [-47.950004, -18.180042, -47.950004, -18.180042], &quot;geometry&quot;: {&quot;coordinates&quot;: [-47.950004, -18.180042], &quot;type&quot;: &quot;Point&quot;}, &quot;id&quot;: &quot;1645&quot;, &quot;properties&quot;: {&quot;adm0name&quot;: &quot;Brazil&quot;, &quot;latitude&quot;: -18.180042, &quot;longitude&quot;: -47.950004, &quot;name&quot;: &quot;Catal\\u00e3o&quot;, &quot;pop_max&quot;: 63544}, &quot;type&quot;: &quot;Feature&quot;}, {&quot;bbox&quot;: [-48.979967, -21.140016, -48.979967, -21.140016], &quot;geometry&quot;: {&quot;coordinates&quot;: [-48.979967, -21.140016], &quot;type&quot;: &quot;Point&quot;}, &quot;id&quot;: &quot;1724&quot;, &quot;properties&quot;: {&quot;adm0name&quot;: &quot;Brazil&quot;, &quot;latitude&quot;: -21.140016, &quot;longitude&quot;: -48.979967, &quot;name&quot;: &quot;Catanduva&quot;, &quot;pop_max&quot;: 109612}, &quot;type&quot;: &quot;Feature&quot;}, {&quot;bbox&quot;: [-124.088225, 40.88519, -124.088225, 40.88519], &quot;geometry&quot;: {&quot;coordinates&quot;: [-124.088225, 40.88519], &quot;type&quot;: &quot;Point&quot;}, &quot;id&quot;: &quot;1860&quot;, &quot;properties&quot;: {&quot;adm0name&quot;: &quot;United States of America&quot;, &quot;latitude&quot;: 40.88519, &quot;longitude&quot;: -124.088225, &quot;name&quot;: &quot;Arcata&quot;, &quot;pop_max&quot;: 20905}, &quot;type&quot;: &quot;Feature&quot;}, {&quot;bbox&quot;: [-88.954736, 39.840706, -88.954736, 39.840706], &quot;geometry&quot;: {&quot;coordinates&quot;: [-88.954736, 39.840706], &quot;type&quot;: &quot;Point&quot;}, &quot;id&quot;: &quot;2038&quot;, &quot;properties&quot;: {&quot;adm0name&quot;: &quot;United States of America&quot;, &quot;latitude&quot;: 39.840706, &quot;longitude&quot;: -88.954736, &quot;name&quot;: &quot;Decatur&quot;, &quot;pop_max&quot;: 77868}, &quot;type&quot;: &quot;Feature&quot;}, {&quot;bbox&quot;: [-102.580003, 22.770431, -102.580003, 22.770431], &quot;geometry&quot;: {&quot;coordinates&quot;: [-102.580003, 22.770431], &quot;type&quot;: &quot;Point&quot;}, &quot;id&quot;: &quot;3145&quot;, &quot;properties&quot;: {&quot;adm0name&quot;: &quot;Mexico&quot;, &quot;latitude&quot;: 22.770431, &quot;longitude&quot;: -102.580003, &quot;name&quot;: &quot;Zacatecas&quot;, &quot;pop_max&quot;: 234481}, &quot;type&quot;: &quot;Feature&quot;}, {&quot;bbox&quot;: [16.60001, 38.900376, 16.60001, 38.900376], &quot;geometry&quot;: {&quot;coordinates&quot;: [16.60001, 38.900376], &quot;type&quot;: &quot;Point&quot;}, &quot;id&quot;: &quot;3388&quot;, &quot;properties&quot;: {&quot;adm0name&quot;: &quot;Italy&quot;, &quot;latitude&quot;: 38.900376, &quot;longitude&quot;: 16.60001, &quot;name&quot;: &quot;Catanzaro&quot;, &quot;pop_max&quot;: 95251}, &quot;type&quot;: &quot;Feature&quot;}, {&quot;bbox&quot;: [-46.869992, -17.199585, -46.869992, -17.199585], &quot;geometry&quot;: {&quot;coordinates&quot;: [-46.869992, -17.199585], &quot;type&quot;: &quot;Point&quot;}, &quot;id&quot;: &quot;4227&quot;, &quot;properties&quot;: {&quot;adm0name&quot;: &quot;Brazil&quot;, &quot;latitude&quot;: -17.199585, &quot;longitude&quot;: -46.869992, &quot;name&quot;: &quot;Paracatu&quot;, &quot;pop_max&quot;: 70753}, &quot;type&quot;: &quot;Feature&quot;}, {&quot;bbox&quot;: [-91.799989, 51.717036, -91.799989, 51.717036], &quot;geometry&quot;: {&quot;coordinates&quot;: [-91.799989, 51.717036], &quot;type&quot;: &quot;Point&quot;}, &quot;id&quot;: &quot;4332&quot;, &quot;properties&quot;: {&quot;adm0name&quot;: &quot;Canada&quot;, &quot;latitude&quot;: 51.717036, &quot;longitude&quot;: -91.799989, &quot;name&quot;: &quot;Cat Lake&quot;, &quot;pop_max&quot;: 277}, &quot;type&quot;: &quot;Feature&quot;}, {&quot;bbox&quot;: [-48.449999, -22.8796, -48.449999, -22.8796], &quot;geometry&quot;: {&quot;coordinates&quot;: [-48.449999, -22.8796], &quot;type&quot;: &quot;Point&quot;}, &quot;id&quot;: &quot;4458&quot;, &quot;properties&quot;: {&quot;adm0name&quot;: &quot;Brazil&quot;, &quot;latitude&quot;: -22.8796, &quot;longitude&quot;: -48.449999, &quot;name&quot;: &quot;Botucatu&quot;, &quot;pop_max&quot;: 113862}, &quot;type&quot;: &quot;Feature&quot;}, {&quot;bbox&quot;: [-112.444723, 42.871348, -112.444723, 42.871348], &quot;geometry&quot;: {&quot;coordinates&quot;: [-112.444723, 42.871348], &quot;type&quot;: &quot;Point&quot;}, &quot;id&quot;: &quot;4902&quot;, &quot;properties&quot;: {&quot;adm0name&quot;: &quot;United States of America&quot;, &quot;latitude&quot;: 42.871348, &quot;longitude&quot;: -112.444723, &quot;name&quot;: &quot;Pocatello&quot;, &quot;pop_max&quot;: 63998}, &quot;type&quot;: &quot;Feature&quot;}, {&quot;bbox&quot;: [-37.770031, -4.559994, -37.770031, -4.559994], &quot;geometry&quot;: {&quot;coordinates&quot;: [-37.770031, -4.559994], &quot;type&quot;: &quot;Point&quot;}, &quot;id&quot;: &quot;6060&quot;, &quot;properties&quot;: {&quot;adm0name&quot;: &quot;Brazil&quot;, &quot;latitude&quot;: -4.559994, &quot;longitude&quot;: -37.770031, &quot;name&quot;: &quot;Aracati&quot;, &quot;pop_max&quot;: 44293}, &quot;type&quot;: &quot;Feature&quot;}, {&quot;bbox&quot;: [-65.780001, -28.470008, -65.780001, -28.470008], &quot;geometry&quot;: {&quot;coordinates&quot;: [-65.780001, -28.470008], &quot;type&quot;: &quot;Point&quot;}, &quot;id&quot;: &quot;6135&quot;, &quot;properties&quot;: {&quot;adm0name&quot;: &quot;Argentina&quot;, &quot;latitude&quot;: -28.470008, &quot;longitude&quot;: -65.780001, &quot;name&quot;: &quot;Catamarca&quot;, &quot;pop_max&quot;: 188812}, &quot;type&quot;: &quot;Feature&quot;}, {&quot;bbox&quot;: [15.079999, 37.499971, 15.079999, 37.499971], &quot;geometry&quot;: {&quot;coordinates&quot;: [15.079999, 37.499971], &quot;type&quot;: &quot;Point&quot;}, &quot;id&quot;: &quot;6498&quot;, &quot;properties&quot;: {&quot;adm0name&quot;: &quot;Italy&quot;, &quot;latitude&quot;: 37.499971, &quot;longitude&quot;: 15.079999, &quot;name&quot;: &quot;Catania&quot;, &quot;pop_max&quot;: 674542}, &quot;type&quot;: &quot;Feature&quot;}, {&quot;bbox&quot;: [58.593312, 23.613325, 58.593312, 23.613325], &quot;geometry&quot;: {&quot;coordinates&quot;: [58.593312, 23.613325], &quot;type&quot;: &quot;Point&quot;}, &quot;id&quot;: &quot;6933&quot;, &quot;properties&quot;: {&quot;adm0name&quot;: &quot;Oman&quot;, &quot;latitude&quot;: 23.613325, &quot;longitude&quot;: 58.593312, &quot;name&quot;: &quot;Muscat&quot;, &quot;pop_max&quot;: 734697}, &quot;type&quot;: &quot;Feature&quot;}], &quot;type&quot;: &quot;FeatureCollection&quot;});\n",
       "\n",
       "        \n",
       "    \n",
       "    geo_json_e963b9afc9185eadee69912f9b1ab4cc.bindTooltip(\n",
       "    function(layer){\n",
       "    let div = L.DomUtil.create(&#x27;div&#x27;);\n",
       "    \n",
       "    let handleObject = feature=&gt;typeof(feature)==&#x27;object&#x27; ? JSON.stringify(feature) : feature;\n",
       "    let fields = [&quot;name&quot;, &quot;adm0name&quot;, &quot;pop_max&quot;, &quot;latitude&quot;, &quot;longitude&quot;];\n",
       "    let aliases = [&quot;name&quot;, &quot;adm0name&quot;, &quot;pop_max&quot;, &quot;latitude&quot;, &quot;longitude&quot;];\n",
       "    let table = &#x27;&lt;table&gt;&#x27; +\n",
       "        String(\n",
       "        fields.map(\n",
       "        (v,i)=&gt;\n",
       "        `&lt;tr&gt;\n",
       "            &lt;th&gt;${aliases[i]}&lt;/th&gt;\n",
       "            \n",
       "            &lt;td&gt;${handleObject(layer.feature.properties[v])}&lt;/td&gt;\n",
       "        &lt;/tr&gt;`).join(&#x27;&#x27;))\n",
       "    +&#x27;&lt;/table&gt;&#x27;;\n",
       "    div.innerHTML=table;\n",
       "    \n",
       "    return div\n",
       "    }\n",
       "    ,{&quot;className&quot;: &quot;foliumtooltip&quot;, &quot;sticky&quot;: true});\n",
       "                     \n",
       "&lt;/script&gt;\n",
       "&lt;/html&gt;\" style=\"position:absolute;width:100%;height:100%;left:0;top:0;border:none !important;\" allowfullscreen webkitallowfullscreen mozallowfullscreen></iframe></div></div>"
      ],
      "text/plain": [
       "<folium.folium.Map at 0x216e0717ed0>"
      ]
     },
     "execution_count": 30,
     "metadata": {},
     "output_type": "execute_result"
    }
   ],
   "source": [
    "m = cat_cities_gdf.explore()"
   ]
  },
  {
   "cell_type": "code",
   "execution_count": null,
   "id": "72103376-df27-4479-8331-393dd4a8fec0",
   "metadata": {},
   "outputs": [],
   "source": []
  }
 ],
 "metadata": {
  "kernelspec": {
   "display_name": "Python 3 (ipykernel)",
   "language": "python",
   "name": "python3"
  },
  "language_info": {
   "codemirror_mode": {
    "name": "ipython",
    "version": 3
   },
   "file_extension": ".py",
   "mimetype": "text/x-python",
   "name": "python",
   "nbconvert_exporter": "python",
   "pygments_lexer": "ipython3",
   "version": "3.11.6"
  }
 },
 "nbformat": 4,
 "nbformat_minor": 5
}
